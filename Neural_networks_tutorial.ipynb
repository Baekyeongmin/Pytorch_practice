{
 "cells": [
  {
   "cell_type": "markdown",
   "metadata": {},
   "source": [
    "# 신경망(Neural Networks)\n",
    "\n",
    "torch.nn 패키지를 사용\n",
    "- 학습가능한 매개변수(or 가중치)를 갖는 신경망 정의\n",
    "- 데이터셋(dataset) 입력을 반복\n",
    "- 입력을 신경망에서 처리\n",
    "- 손실(loss)를 계산\n",
    "- 변화도(gradient)를 backpropagation\n",
    "- 신경망의 가중치 갱신\n",
    "    - weight = weight - learning rate * gradient"
   ]
  },
  {
   "cell_type": "markdown",
   "metadata": {},
   "source": [
    "## torch.nn\n",
    "\n",
    "##### torch.nn.Module\n",
    "- 모든 neural network module의 base class\n",
    "- nn.Moudle을 상속받아 서브클래스를 만들고 forward를 정의\n",
    "- forward 안에서는 입력 Variable을 받아 다른 모듈과 다른 autograd 연산을 이용하여 출력 Variable을 만드는 역할\n",
    "\n",
    "##### nn.Conv2d\n",
    "- nn.Conv2d(in channels, out channels, kernel size, stride=1, padding=0, dilation=1, groups=1, bias=True)\n",
    "- Parameters:\n",
    "    - in_channels(int) : input의 channel 수\n",
    "    - out channels(int) : convolution에의해 생성된 channel의 수\n",
    "    - kernel_size(int or tuple) : convolution kernel의 크기\n",
    "    - stride(int or tuple) : convolution의 stride\n",
    "    - padding(int or tuple) : zero padding의 크기\n",
    "    - dilation(int or tuple) : kernel element사이의 공간\n",
    "    - group : group만큼 input channel을 나누고 각각의 그룹에 대해 독립적으로 convolution 수행후 그 결과를 concatenation\n",
    "    - bias : bias의 유무\n",
    "- Shape:\n",
    "    - Input : (N, C_in, H_in, W_in)\n",
    "    - Output : (N, C_out, H_out, W_out)\n",
    "    - N: batch size\n",
    "    - H_out = ceil((H_in + 2 * padding - dilation * kernel_size - 1)/stride) + 1\n",
    "- Variable:\n",
    "    - weight : learnable weight shape(out_channel, in_channel, kernel_size[0], kernel_size[1])\n",
    "    - bias : learnable bias (out_channels)\n",
    "\n",
    "##### nn.Linear\n",
    "- nn.Linear(in_features, out_features, bias=True)\n",
    "- input에 y=xA^T+b의 linear transform 적용\n",
    "- Parameters:\n",
    "    - in_features : input sample의 size\n",
    "    - out_features : output sample의 size\n",
    "    - bias : b의 유무 default=True\n",
    "- Shape:\n",
    "    - Input(N, *, in_features) : * any number of additional demension\n",
    "    - Output(N, *, out_features)\n",
    "- Variables:\n",
    "    - weight : learnable weights shape(out_features * in_features)\n",
    "    - bias : learnable bias shape(out_features)\n"
   ]
  },
  {
   "cell_type": "code",
   "execution_count": 4,
   "metadata": {},
   "outputs": [
    {
     "name": "stdout",
     "output_type": "stream",
     "text": [
      "Net(\n",
      "  (conv1): Conv2d(1, 6, kernel_size=(5, 5), stride=(1, 1))\n",
      "  (conv2): Conv2d(6, 16, kernel_size=(5, 5), stride=(1, 1))\n",
      "  (fc1): Linear(in_features=400, out_features=120, bias=True)\n",
      "  (fc2): Linear(in_features=120, out_features=84, bias=True)\n",
      "  (fc3): Linear(in_features=84, out_features=10, bias=True)\n",
      ")\n"
     ]
    }
   ],
   "source": [
    "#neural net 정의\n",
    "import torch\n",
    "from torch.autograd import Variable\n",
    "import torch.nn as nn\n",
    "import torch.nn.functional as F\n",
    "\n",
    "class Net(nn.Module):\n",
    "    def __init__(self):\n",
    "        super(Net, self).__init__()\n",
    "        self.conv1 = nn.Conv2d(1, 6, 5) \n",
    "        self.conv2 = nn.Conv2d(6, 16, 5)\n",
    "        \n",
    "        self.fc1 = nn.Linear(16 * 5 * 5, 120)\n",
    "        self.fc2 = nn.Linear(120, 84)\n",
    "        self.fc3 = nn.Linear(84, 10)\n",
    "        \n",
    "    def forward(self, x):\n",
    "        x = F.max_pool2d(F.relu(self.conv1(x)), 2)\n",
    "        x = F.max_pool2d(F.relu(self.conv2(x)), 2)\n",
    "        x = x.view(-1, self.num_flat_features(x))\n",
    "        x = F.relu(self.fc1(x))\n",
    "        x = F.relu(self.fc2(x))\n",
    "        x = self.fc3(x)\n",
    "        return x\n",
    "    \n",
    "    def num_flat_features(self, x):\n",
    "        size = x.size()[1:] #batch size를 제외한 모든 size\n",
    "        num_features = 1\n",
    "        for s in size:\n",
    "            num_features *= s\n",
    "        return num_features\n",
    "\n",
    "net = Net()\n",
    "print(net)"
   ]
  },
  {
   "cell_type": "markdown",
   "metadata": {},
   "source": [
    "- nn.Module을 상속받아서 만든 클래스를 함수형으로 call하면 forward가 호출됨\n",
    "- forward의 입력과 출력은 autograd.Variable"
   ]
  },
  {
   "cell_type": "code",
   "execution_count": 5,
   "metadata": {},
   "outputs": [
    {
     "name": "stdout",
     "output_type": "stream",
     "text": [
      "10\n",
      "torch.Size([6, 1, 5, 5])\n"
     ]
    }
   ],
   "source": [
    "params = list(net.parameters())\n",
    "print(len(params))\n",
    "print(params[0].size())"
   ]
  },
  {
   "cell_type": "code",
   "execution_count": 59,
   "metadata": {},
   "outputs": [
    {
     "name": "stdout",
     "output_type": "stream",
     "text": [
      "tensor([[ 0.0087,  0.0399, -0.0940, -0.1718, -0.1074, -0.0035, -0.1137,  0.1068,\n",
      "         -0.1178, -0.1762]], grad_fn=<ThAddmmBackward>)\n"
     ]
    }
   ],
   "source": [
    "input = Variable(torch.randn(1, 1, 32, 32))\n",
    "out = net(input)\n",
    "print(out)"
   ]
  },
  {
   "cell_type": "code",
   "execution_count": 36,
   "metadata": {},
   "outputs": [],
   "source": [
    "net.zero_grad()\n",
    "#backward를 수행하면 이전에 수행했던 forward결과를 reset\n",
    "out.backward(torch.randn(1,10))"
   ]
  },
  {
   "cell_type": "markdown",
   "metadata": {},
   "source": [
    "## Loss Function\n",
    "loss function : (output, label)을 입력으로 받아 output과 label(정답)이 얼마나 가까운지 추정하는 값을 계산하는 함수\n",
    "nn패키지에는 여러 loss function이 존재 ex) nn.MSEloss"
   ]
  },
  {
   "cell_type": "code",
   "execution_count": 64,
   "metadata": {},
   "outputs": [
    {
     "name": "stdout",
     "output_type": "stream",
     "text": [
      "<class 'torch.Tensor'>\n",
      "tensor(39.3349, grad_fn=<MseLossBackward>)\n"
     ]
    }
   ],
   "source": [
    "input = Variable(torch.randn(1, 1, 32, 32))\n",
    "output = net(input)\n",
    "target = Variable(torch.arange(1, 11).float())  # a dummy target, for example\n",
    "target = target.view(1, -1)  # make it the same shape as output\n",
    "print(type(target))\n",
    "criterion = nn.MSELoss()\n",
    "\n",
    "loss = criterion(output, target)\n",
    "print(loss)"
   ]
  },
  {
   "cell_type": "markdown",
   "metadata": {},
   "source": [
    "## Backprop\n",
    "gradient function을 계산해서 각 Variable마다 gradient update\n",
    "- zero_grad() : gradient buffer를 0으로 초기화 - 기존의 gradient가 존재하면 초기화\n",
    "- backward() : gradient function 계산 후 gradient update"
   ]
  },
  {
   "cell_type": "code",
   "execution_count": 68,
   "metadata": {},
   "outputs": [
    {
     "name": "stdout",
     "output_type": "stream",
     "text": [
      "conv1.bias.grad before backward\n",
      "tensor([0., 0., 0., 0., 0., 0.])\n",
      "conv1.bias.grad after backward\n",
      "tensor([-0.0101,  0.1119,  0.0005, -0.0174,  0.0135,  0.0606])\n"
     ]
    }
   ],
   "source": [
    "net.zero_grad()     # zeroes the gradient buffers of all parameters\n",
    "\n",
    "print('conv1.bias.grad before backward')\n",
    "print(net.conv1.bias.grad)\n",
    "\n",
    "loss.backward()\n",
    "\n",
    "print('conv1.bias.grad after backward')\n",
    "print(net.conv1.bias.grad)"
   ]
  },
  {
   "cell_type": "markdown",
   "metadata": {},
   "source": [
    "## Weight update\n",
    "- 계산한 gradient를 바탕으로 각 parameter 가중치 update\n",
    "- 가장 간단한 update rule은 SGD(Stochastic Gradient Descent): weight = weight - learning rate * gradient\n"
   ]
  },
  {
   "cell_type": "code",
   "execution_count": 69,
   "metadata": {},
   "outputs": [],
   "source": [
    "learning_rate = 0.01\n",
    "for f in net.parameters():\n",
    "    f.data.sub_(f.grad.data * learning_rate)"
   ]
  },
  {
   "cell_type": "markdown",
   "metadata": {},
   "source": [
    "신경망을 구성할 때 다양한 optimization 방법들은 이미 torch.optim에 구현되어 있음\n",
    "(Adam, SGD, RMSProp 등)"
   ]
  },
  {
   "cell_type": "code",
   "execution_count": 73,
   "metadata": {},
   "outputs": [],
   "source": [
    "import torch.optim as optim\n",
    "\n",
    "optimizer = optim.Adam(net.parameters(), lr=0.01)\n",
    "\n",
    "#수동으로 gradient buffer를 비워줘야함 - 비워주지 않으면 값이 누적됨\n",
    "optimizer.zero_grad()\n",
    "output = net(input)\n",
    "loss = criterion(output, target)\n",
    "loss.backward()\n",
    "optimizer.step()"
   ]
  }
 ],
 "metadata": {
  "kernelspec": {
   "display_name": "Python 2",
   "language": "python",
   "name": "python2"
  },
  "language_info": {
   "codemirror_mode": {
    "name": "ipython",
    "version": 2
   },
   "file_extension": ".py",
   "mimetype": "text/x-python",
   "name": "python",
   "nbconvert_exporter": "python",
   "pygments_lexer": "ipython2",
   "version": "2.7.15"
  }
 },
 "nbformat": 4,
 "nbformat_minor": 2
}
