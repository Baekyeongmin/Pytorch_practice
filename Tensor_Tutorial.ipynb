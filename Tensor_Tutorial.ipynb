{
 "cells": [
  {
   "cell_type": "markdown",
   "metadata": {},
   "source": [
    "### Pytorch tutorial\n",
    "reference : https://9bow.github.io/PyTorch-tutorials-kr-0.3.1/beginner/blitz/tensor_tutorial.html#sphx-glr-beginner-blitz-tensor-tutorial-py\n"
   ]
  },
  {
   "cell_type": "markdown",
   "metadata": {},
   "source": [
    "#### Tensor\n",
    "텐서 생성 및 초기화\n",
    "- torch.Tensor(shape) : 초기화되지 않은 텐서 생성\n",
    "- torch.rand(shape) : 무작위로 초기화된 행렬 생성 (0~1사이의 수)\n",
    "- torch.randn(shape) : 각원소가 정규분포를 따르도록 초기화된 행렬 생성\n",
    "- .size() : 행렬의 크기 구하기"
   ]
  },
  {
   "cell_type": "code",
   "execution_count": 1,
   "metadata": {},
   "outputs": [],
   "source": [
    "import torch"
   ]
  },
  {
   "cell_type": "code",
   "execution_count": 5,
   "metadata": {},
   "outputs": [
    {
     "name": "stdout",
     "output_type": "stream",
     "text": [
      "tensor([[ 0.0000e+00, -1.0842e-19,  0.0000e+00],\n",
      "        [-1.0842e-19,  8.6667e-34,  1.4013e-45],\n",
      "        [ 1.0401e-33,  1.4013e-45,  3.2218e-18],\n",
      "        [ 1.5849e+29,  0.0000e+00,  0.0000e+00],\n",
      "        [ 2.3983e-36,  1.4013e-45,  3.2217e-18]])\n",
      "torch.Size([5, 3])\n"
     ]
    }
   ],
   "source": [
    "x = torch.Tensor(5, 3)\n",
    "print(x)\n",
    "print(x.size())"
   ]
  },
  {
   "cell_type": "code",
   "execution_count": 6,
   "metadata": {},
   "outputs": [
    {
     "name": "stdout",
     "output_type": "stream",
     "text": [
      "tensor([[0.7880, 0.9478, 0.7735],\n",
      "        [0.5129, 0.9058, 0.8656],\n",
      "        [0.9605, 0.7123, 0.1502],\n",
      "        [0.8434, 0.6744, 0.1274],\n",
      "        [0.8650, 0.9792, 0.5090]])\n",
      "torch.Size([5, 3])\n"
     ]
    }
   ],
   "source": [
    "x = torch.rand(5,3)\n",
    "print(x)\n",
    "print(x.size())"
   ]
  },
  {
   "cell_type": "markdown",
   "metadata": {},
   "source": [
    "#### Operation\n",
    "- 덧셈:\n",
    "    - x + y\n",
    "    - torch.add(x, y)\n",
    "    - target1.add_(target_2) : inplace 덧셈 x+y를 y에 대입"
   ]
  },
  {
   "cell_type": "code",
   "execution_count": 7,
   "metadata": {},
   "outputs": [
    {
     "name": "stdout",
     "output_type": "stream",
     "text": [
      "tensor([[1.3714, 1.4621, 1.6345],\n",
      "        [0.9467, 0.9824, 1.0889],\n",
      "        [1.1586, 1.4912, 0.7689],\n",
      "        [1.7692, 1.3471, 0.3381],\n",
      "        [0.9484, 1.5601, 1.2400]])\n"
     ]
    }
   ],
   "source": [
    "y = torch.rand(5,3)\n",
    "print(x+y)"
   ]
  },
  {
   "cell_type": "code",
   "execution_count": 8,
   "metadata": {},
   "outputs": [
    {
     "name": "stdout",
     "output_type": "stream",
     "text": [
      "tensor([[1.3714, 1.4621, 1.6345],\n",
      "        [0.9467, 0.9824, 1.0889],\n",
      "        [1.1586, 1.4912, 0.7689],\n",
      "        [1.7692, 1.3471, 0.3381],\n",
      "        [0.9484, 1.5601, 1.2400]])\n"
     ]
    }
   ],
   "source": [
    "print(torch.add(x,y))"
   ]
  },
  {
   "cell_type": "code",
   "execution_count": 10,
   "metadata": {},
   "outputs": [
    {
     "name": "stdout",
     "output_type": "stream",
     "text": [
      "tensor([[1.3714, 1.4621, 1.6345],\n",
      "        [0.9467, 0.9824, 1.0889],\n",
      "        [1.1586, 1.4912, 0.7689],\n",
      "        [1.7692, 1.3471, 0.3381],\n",
      "        [0.9484, 1.5601, 1.2400]])\n"
     ]
    }
   ],
   "source": [
    "result = torch.Tensor(5,3)\n",
    "torch.add(x,y,out=result)\n",
    "print(result)"
   ]
  },
  {
   "cell_type": "code",
   "execution_count": 12,
   "metadata": {},
   "outputs": [
    {
     "name": "stdout",
     "output_type": "stream",
     "text": [
      "tensor([[2.1593, 2.4099, 2.4079],\n",
      "        [1.4596, 1.8882, 1.9545],\n",
      "        [2.1191, 2.2036, 0.9191],\n",
      "        [2.6126, 2.0216, 0.4655],\n",
      "        [1.8134, 2.5393, 1.7490]])\n"
     ]
    }
   ],
   "source": [
    "y.add_(x)\n",
    "print(y)"
   ]
  },
  {
   "cell_type": "markdown",
   "metadata": {},
   "source": [
    "#### indexing\n",
    "- numpy 의 인덱싱 표현법 사용가능"
   ]
  },
  {
   "cell_type": "code",
   "execution_count": 16,
   "metadata": {},
   "outputs": [
    {
     "name": "stdout",
     "output_type": "stream",
     "text": [
      "tensor([0.5129, 0.9058, 0.8656])\n",
      "tensor([0.7735, 0.8656, 0.1502, 0.1274, 0.5090])\n",
      "tensor(0.8656)\n"
     ]
    }
   ],
   "source": [
    "print(x[1])\n",
    "print(x[:,2])\n",
    "print(x[1,2])"
   ]
  },
  {
   "cell_type": "markdown",
   "metadata": {},
   "source": [
    "#### 크기 변경\n",
    "tensor의 크기(size)나 모양(shape) 변경\n",
    "- torch.view()"
   ]
  },
  {
   "cell_type": "code",
   "execution_count": 18,
   "metadata": {},
   "outputs": [
    {
     "name": "stdout",
     "output_type": "stream",
     "text": [
      "(torch.Size([4, 4]), torch.Size([16]), torch.Size([2, 8]))\n"
     ]
    }
   ],
   "source": [
    "x = torch.randn(4,4)\n",
    "y = x.view(16)\n",
    "z = x.view(-1, 8)\n",
    "print(x.size(), y.size(), z.size())"
   ]
  },
  {
   "cell_type": "markdown",
   "metadata": {},
   "source": [
    "#### NumPy 변환\n",
    "- .numpy(): numpy 배열로 변환하여 리턴\n",
    "- torch tensor와 numpy 배열은 저장 공간을 공유하기 때문에, 하나를 변경하면 다른 하나도 변경"
   ]
  },
  {
   "cell_type": "code",
   "execution_count": 21,
   "metadata": {},
   "outputs": [
    {
     "name": "stdout",
     "output_type": "stream",
     "text": [
      "tensor([1., 1., 1., 1., 1.])\n"
     ]
    }
   ],
   "source": [
    "a = torch.ones(5)\n",
    "print(a)"
   ]
  },
  {
   "cell_type": "code",
   "execution_count": 22,
   "metadata": {},
   "outputs": [
    {
     "name": "stdout",
     "output_type": "stream",
     "text": [
      "[1. 1. 1. 1. 1.]\n"
     ]
    }
   ],
   "source": [
    "b = a.numpy()\n",
    "print(b)"
   ]
  },
  {
   "cell_type": "code",
   "execution_count": 23,
   "metadata": {},
   "outputs": [
    {
     "name": "stdout",
     "output_type": "stream",
     "text": [
      "tensor([2., 2., 2., 2., 2.])\n",
      "[2. 2. 2. 2. 2.]\n"
     ]
    }
   ],
   "source": [
    "a.add_(1)\n",
    "print(a)\n",
    "print(b)"
   ]
  },
  {
   "cell_type": "markdown",
   "metadata": {},
   "source": [
    "#### NumPy 배열을 Torch Tensor로 변환\n",
    "- torch.from_numpy(numpy_array)"
   ]
  },
  {
   "cell_type": "code",
   "execution_count": 24,
   "metadata": {},
   "outputs": [
    {
     "name": "stdout",
     "output_type": "stream",
     "text": [
      "[2. 2. 2. 2. 2.]\n",
      "tensor([2., 2., 2., 2., 2.], dtype=torch.float64)\n"
     ]
    }
   ],
   "source": [
    "import numpy as np\n",
    "a = np.ones(5)\n",
    "b = torch.from_numpy(a)\n",
    "np.add(a, 1, out=a)\n",
    "print(a)\n",
    "print(b)"
   ]
  },
  {
   "cell_type": "markdown",
   "metadata": {},
   "source": [
    "#### CUDA Tensors\n",
    "- .cuda 메소드로 tensor를 gpu상으로 옮길 수 있음"
   ]
  },
  {
   "cell_type": "code",
   "execution_count": 25,
   "metadata": {},
   "outputs": [],
   "source": [
    "if torch.cuda.is_available():\n",
    "    x = x.cuda()\n",
    "    y = y.cuda()\n",
    "    x + y"
   ]
  }
 ],
 "metadata": {
  "kernelspec": {
   "display_name": "Python 2",
   "language": "python",
   "name": "python2"
  },
  "language_info": {
   "codemirror_mode": {
    "name": "ipython",
    "version": 2
   },
   "file_extension": ".py",
   "mimetype": "text/x-python",
   "name": "python",
   "nbconvert_exporter": "python",
   "pygments_lexer": "ipython2",
   "version": "2.7.15"
  }
 },
 "nbformat": 4,
 "nbformat_minor": 2
}
