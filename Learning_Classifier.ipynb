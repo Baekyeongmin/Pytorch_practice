{
 "cells": [
  {
   "cell_type": "markdown",
   "metadata": {},
   "source": [
    "# Classifier 학습\n",
    "데이터 처리부터 학습까지\n",
    "\n",
    "## Data preparing\n",
    "일반적인 이미지, 텍스트, 오디오, 비디오데이터 처리 과정\n",
    "1. 표준 python 패키지로 불러옴\n",
    "2. NumPy 배열로 변환\n",
    "3. torch.Tensor로 변환\n",
    "\n",
    "유용한 library\n",
    "- 이미지는 Pillow 나 OpenCV\n",
    "- 오디오는 SciPy 나 LibROSA\n",
    "- 텍스트 Python/Cython NLTK SpaCy\n",
    "\n",
    "torchvision 패키지\n",
    "- 영상분야를 위한 패키지\n",
    "- Imagenet/CIFAR10/MNIST 등의 일반적인 데이터셋을 불러오는 함수들 제공\n",
    "- torchvision.datasets, torch.utils.data.DataLoader"
   ]
  },
  {
   "cell_type": "markdown",
   "metadata": {},
   "source": [
    "### Classifier 학습하기(MNIST)\n",
    "\n",
    "1. MNIST 데이터셋 불러오기(torchvision)이용\n",
    "2. Neural net 정의\n",
    "3. loss function 및 optimization 정의\n",
    "4. train data를 이용하여 학습\n",
    "5. test data를 이용하여 결과 평가"
   ]
  },
  {
   "cell_type": "code",
   "execution_count": 1,
   "metadata": {},
   "outputs": [],
   "source": [
    "import torch\n",
    "import torchvision\n",
    "import torchvision.transforms as transforms"
   ]
  },
  {
   "cell_type": "code",
   "execution_count": 39,
   "metadata": {},
   "outputs": [],
   "source": [
    "#데이터셋 불러오기\n",
    "# MNIST : 1*28*28 size의 손글씨 dataset 체널 1의 m,std = 0.1307, 0.3081\n",
    "\n",
    "transform = transforms.Compose(\n",
    "    [transforms.ToTensor(),\n",
    "     transforms.Normalize((0.1307,), (0.3081,))])\n",
    "\n",
    "trainset = torchvision.datasets.MNIST(root='./data', train=True,\n",
    "                                        download=True, transform=transform)\n",
    "trainloader = torch.utils.data.DataLoader(trainset, batch_size=4,\n",
    "                                          shuffle=True, num_workers=2)\n",
    "\n",
    "testset = torchvision.datasets.MNIST(root='./data', train=False,\n",
    "                                       download=True, transform=transform)\n",
    "testloader = torch.utils.data.DataLoader(testset, batch_size=4,\n",
    "                                         shuffle=False, num_workers=2)\n"
   ]
  },
  {
   "cell_type": "code",
   "execution_count": 64,
   "metadata": {},
   "outputs": [
    {
     "name": "stdout",
     "output_type": "stream",
     "text": [
      "MNIST_NET(\n",
      "  (conv1): Conv2d(1, 6, kernel_size=(3, 3), stride=(1, 1))\n",
      "  (pool): MaxPool2d(kernel_size=2, stride=2, padding=0, dilation=1, ceil_mode=False)\n",
      "  (conv2): Conv2d(6, 16, kernel_size=(3, 3), stride=(1, 1))\n",
      "  (fc1): Linear(in_features=400, out_features=120, bias=True)\n",
      "  (fc2): Linear(in_features=120, out_features=84, bias=True)\n",
      "  (fc3): Linear(in_features=84, out_features=10, bias=True)\n",
      ")\n"
     ]
    }
   ],
   "source": [
    "# Neural net 정의\n",
    "# Covolution > relu > pool > Convolution > relu > pool \n",
    "# > fc1 > relu > fc2 > relu > fc3\n",
    "\n",
    "from torch.autograd import Variable\n",
    "import torch.nn as nn\n",
    "import torch.nn.functional as F\n",
    "\n",
    "class MNIST_NET(nn.Module):\n",
    "    def __init__(self):\n",
    "        super(MNIST_NET, self).__init__()\n",
    "        self.conv1 = nn.Conv2d(1, 6, 3)\n",
    "        self.pool = nn.MaxPool2d(2,2)\n",
    "        self.conv2 = nn.Conv2d(6, 16, 3)\n",
    "        self.fc1 = nn.Linear(16*5*5, 120)\n",
    "        self.fc2 = nn.Linear(120, 84)\n",
    "        self.fc3 = nn.Linear(84, 10)\n",
    "        \n",
    "    def forward(self, x):\n",
    "        x = self.pool(F.relu(self.conv1(x)))\n",
    "        x = self.pool(F.relu(self.conv2(x)))\n",
    "        x = x.view(-1, 16*5*5)\n",
    "        x = F.relu(self.fc1(x))\n",
    "        x = F.relu(self.fc2(x))\n",
    "        x = self.fc3(x)\n",
    "        return x\n",
    "net = MNIST_NET()\n",
    "print(net)"
   ]
  },
  {
   "cell_type": "code",
   "execution_count": 65,
   "metadata": {},
   "outputs": [],
   "source": [
    "# loss function 및 optimizer 정의\n",
    "import torch.optim as optim\n",
    "\n",
    "criterion = nn.CrossEntropyLoss()\n",
    "optimizer = optim.SGD(net.parameters(), lr=0.001)"
   ]
  },
  {
   "cell_type": "code",
   "execution_count": 66,
   "metadata": {},
   "outputs": [
    {
     "name": "stderr",
     "output_type": "stream",
     "text": [
      "/usr/local/lib/python2.7/site-packages/ipykernel_launcher.py:24: UserWarning: invalid index of a 0-dim tensor. This will be an error in PyTorch 0.5. Use tensor.item() to convert a 0-dim tensor to a Python number\n"
     ]
    },
    {
     "name": "stdout",
     "output_type": "stream",
     "text": [
      "[1,  1000] loss : 2.260\n",
      "[1,  2000] loss : 2.076\n",
      "[1,  3000] loss : 1.264\n",
      "[1,  4000] loss : 0.640\n",
      "[1,  5000] loss : 0.514\n",
      "[1,  6000] loss : 0.421\n",
      "[1,  7000] loss : 0.391\n",
      "[1,  8000] loss : 0.350\n",
      "[1,  9000] loss : 0.317\n",
      "[1, 10000] loss : 0.308\n",
      "[1, 11000] loss : 0.283\n",
      "[1, 12000] loss : 0.262\n",
      "[1, 13000] loss : 0.238\n",
      "[1, 14000] loss : 0.219\n",
      "[1, 15000] loss : 0.200\n",
      "[2,  1000] loss : 0.181\n",
      "[2,  2000] loss : 0.183\n",
      "[2,  3000] loss : 0.201\n",
      "[2,  4000] loss : 0.170\n",
      "[2,  5000] loss : 0.167\n",
      "[2,  6000] loss : 0.164\n",
      "[2,  7000] loss : 0.165\n",
      "[2,  8000] loss : 0.149\n",
      "[2,  9000] loss : 0.141\n",
      "[2, 10000] loss : 0.133\n",
      "[2, 11000] loss : 0.144\n",
      "[2, 12000] loss : 0.138\n",
      "[2, 13000] loss : 0.145\n",
      "[2, 14000] loss : 0.127\n",
      "[2, 15000] loss : 0.128\n",
      "[3,  1000] loss : 0.108\n",
      "[3,  2000] loss : 0.125\n",
      "[3,  3000] loss : 0.122\n",
      "[3,  4000] loss : 0.109\n",
      "[3,  5000] loss : 0.126\n",
      "[3,  6000] loss : 0.090\n",
      "[3,  7000] loss : 0.099\n",
      "[3,  8000] loss : 0.124\n",
      "[3,  9000] loss : 0.099\n",
      "[3, 10000] loss : 0.113\n",
      "[3, 11000] loss : 0.090\n",
      "[3, 12000] loss : 0.103\n",
      "[3, 13000] loss : 0.099\n",
      "[3, 14000] loss : 0.100\n",
      "[3, 15000] loss : 0.105\n",
      "Finished Training\n"
     ]
    }
   ],
   "source": [
    "# neural net 학습하기\n",
    "total_epoch = 3\n",
    "\n",
    "for epoch in range(total_epoch):\n",
    "    #현재 loss 저장\n",
    "    current_loss = 0.0\n",
    "    #enumerate : 현제 index와 data를 쌍으로 반환 \n",
    "    for i, data in enumerate(trainloader, 0):\n",
    "        inputs, labels = data\n",
    "        \n",
    "        #input으로 사용하기위해 pytorch Variable로 감쌈\n",
    "        inputs, labels = Variable(inputs), Variable(labels)\n",
    "        \n",
    "        #grad 초기화(누적방지)\n",
    "        optimizer.zero_grad()\n",
    "        \n",
    "        #학습, back propagation, optimizing\n",
    "        outputs = net(inputs)\n",
    "        loss = criterion(outputs, labels)\n",
    "        loss.backward()\n",
    "        optimizer.step()\n",
    "        \n",
    "        #학습 통계 출력\n",
    "        current_loss += loss.data[0]\n",
    "        if i % 1000 == 999:\n",
    "            print('[Epoch : %d, Iteration : %5d] loss : %.3f' % (epoch+1, i+1, current_loss/1000))\n",
    "            current_loss = 0.0\n",
    "print('Finished Training')"
   ]
  },
  {
   "cell_type": "code",
   "execution_count": 93,
   "metadata": {},
   "outputs": [
    {
     "name": "stdout",
     "output_type": "stream",
     "text": [
      "Accuracy of 0 : 99 %\n",
      "Accuracy of 1 : 98 %\n",
      "Accuracy of 2 : 95 %\n",
      "Accuracy of 3 : 97 %\n",
      "Accuracy of 4 : 91 %\n",
      "Accuracy of 5 : 98 %\n",
      "Accuracy of 6 : 96 %\n",
      "Accuracy of 7 : 94 %\n",
      "Accuracy of 8 : 97 %\n",
      "Accuracy of 9 : 97 %\n"
     ]
    }
   ],
   "source": [
    "#test set에 대해서 결과 확인\n",
    "class_correct = list(0. for i in range(10))\n",
    "class_total = list(0. for i in range(10))\n",
    "\n",
    "\n",
    "for data in testloader:\n",
    "    images, labels = data\n",
    "    outputs = net(images)\n",
    "    #output size = torch.Size([4, 10])\n",
    "    #torch.max(input, dim, keepdim=False, out=None) -> (Tensor, LongTensor)\n",
    "    _, predicted = torch.max(outputs.data, 1)\n",
    "    \n",
    "    #numpy 배열로 변환 -> 안해주면 error남\n",
    "    c = (predicted == labels).numpy()\n",
    "    for i in range(len(c)):\n",
    "        label = labels[i]\n",
    "        class_correct[label] += c[i]\n",
    "        class_total[label] += 1\n",
    "\n",
    "for i in range(10):\n",
    "    print('Accuracy of %d : %d %%' % (i, 100*class_correct[i] / class_total[i]))"
   ]
  }
 ],
 "metadata": {
  "kernelspec": {
   "display_name": "Python 2",
   "language": "python",
   "name": "python2"
  },
  "language_info": {
   "codemirror_mode": {
    "name": "ipython",
    "version": 2
   },
   "file_extension": ".py",
   "mimetype": "text/x-python",
   "name": "python",
   "nbconvert_exporter": "python",
   "pygments_lexer": "ipython2",
   "version": "2.7.15"
  }
 },
 "nbformat": 4,
 "nbformat_minor": 2
}
